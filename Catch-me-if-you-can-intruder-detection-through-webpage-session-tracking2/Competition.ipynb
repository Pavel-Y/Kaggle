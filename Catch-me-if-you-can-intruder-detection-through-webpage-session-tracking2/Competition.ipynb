{
 "cells": [
  {
   "cell_type": "code",
   "execution_count": 1,
   "metadata": {},
   "outputs": [],
   "source": [
    "import warnings\n",
    "import pickle\n",
    "\n",
    "import pandas as pd\n",
    "import numpy as np\n",
    "\n",
    "from sklearn.linear_model import LogisticRegression, LogisticRegressionCV\n",
    "from sklearn.feature_extraction.text import TfidfVectorizer\n",
    "from sklearn.model_selection import StratifiedKFold\n",
    "from __future__ import division, print_function\n",
    "from scipy.sparse import csr_matrix, hstack\n",
    "from sklearn.metrics import roc_auc_score\n",
    "from tqdm import tqdm \n",
    "\n",
    "\n",
    "warnings.filterwarnings('ignore')\n",
    "PATH_TO_DATA = 'data/' "
   ]
  },
  {
   "cell_type": "code",
   "execution_count": 2,
   "metadata": {},
   "outputs": [],
   "source": [
    "time_cols = ['time%d' % i for i in range(1, 11)]\n",
    "site_cols = ['site%d' % i for i in range(1, 11)]\n",
    "\n",
    "train_df = pd.read_csv(PATH_TO_DATA + 'train_sessions.csv', index_col='session_id', parse_dates=time_cols)\n",
    "test_df = pd.read_csv(PATH_TO_DATA + 'test_sessions.csv', index_col='session_id', parse_dates=time_cols)\n",
    "\n",
    "with open(PATH_TO_DATA + 'site_dic.pkl', 'rb') as site_file:\n",
    "     sites_dict = pickle.load(site_file)\n",
    "        \n",
    "id_sites_dict = {v: k for k, v in sites_dict.items()}"
   ]
  },
  {
   "cell_type": "code",
   "execution_count": 3,
   "metadata": {},
   "outputs": [],
   "source": [
    "def split_data(X_data, y_data):\n",
    "    grouped = train_df[['target']].groupby(by='target')\n",
    "    \n",
    "    train_ids = []\n",
    "    valid_ids = []\n",
    "    \n",
    "    for g in tqdm(grouped.groups.keys()):\n",
    "        train_shape = int(grouped.get_group(g).shape[0] * 0.7)\n",
    "\n",
    "        ids_to_train = grouped.get_group(g).index[:train_shape]\n",
    "        ids_to_valid = grouped.get_group(g).index[train_shape:]\n",
    "\n",
    "        train_ids.extend(ids_to_train)\n",
    "        valid_ids.extend(ids_to_valid)\n",
    "        \n",
    "    train_ids = np.array(train_ids) - 1\n",
    "    valid_ids = np.array(valid_ids) - 1\n",
    "        \n",
    "    return X_data.tocsc()[train_ids], y_data[train_ids], X_data.tocsc()[valid_ids], y_data[valid_ids]"
   ]
  },
  {
   "cell_type": "code",
   "execution_count": 4,
   "metadata": {},
   "outputs": [],
   "source": [
    "def get_dense_matrix(matrix):\n",
    "    site_ids = list(id_sites_dict)\n",
    "    X = matrix.values\n",
    "    \n",
    "    i = 0\n",
    "    data = list()\n",
    "    col = list()\n",
    "    rows = list()\n",
    "    for row in tqdm(X):\n",
    "        unique, counts = np.unique(row, return_counts=True)\n",
    "        dic = dict(zip(unique, counts))\n",
    "        for k in dic:\n",
    "            if k != 0:\n",
    "                data.append(dic[k])\n",
    "                rows.append(i)\n",
    "                col.append(k-1)\n",
    "            \n",
    "        i += 1\n",
    "    X_sparse = csr_matrix((data, (rows, col)), shape=(X.shape[0], len(site_ids)))\n",
    "    return X_sparse"
   ]
  },
  {
   "cell_type": "code",
   "execution_count": 5,
   "metadata": {},
   "outputs": [],
   "source": [
    "def score(model, X_train, y_train, X_valid, y_valid):\n",
    "    model.fit(X_train, y_train)\n",
    "    valid_score = model.predict_proba(X_valid)\n",
    "    print(roc_auc_score(y_valid, valid_score[:, 1:]))"
   ]
  },
  {
   "cell_type": "code",
   "execution_count": 6,
   "metadata": {},
   "outputs": [],
   "source": [
    "def write_to_submission_file(predicted_labels, out_file, target='target', index_label=\"session_id\"):\n",
    "    predicted_df = pd.DataFrame(predicted_labels, index = np.arange(1, predicted_labels.shape[0] + 1), columns=[target])\n",
    "    predicted_df.to_csv(out_file, index_label=index_label)"
   ]
  },
  {
   "cell_type": "code",
   "execution_count": 7,
   "metadata": {},
   "outputs": [],
   "source": [
    "def make_submission(model, X_train, y_train, X_test):\n",
    "    print(X_train.shape)\n",
    "    print(X_test.shape)\n",
    "    model.fit(X_train, y_train)\n",
    "    test_pred_proba = model.predict_proba(X_test)\n",
    "    write_to_submission_file(test_pred_proba[:, 1:], 'result.csv')"
   ]
  },
  {
   "cell_type": "code",
   "execution_count": 8,
   "metadata": {},
   "outputs": [],
   "source": [
    "def exptact_time_features(data):\n",
    "\n",
    "    day_offset = 24\n",
    "    month_offset = day_offset + 7\n",
    "    morning_offset = month_offset + 12\n",
    "    evening_offset = morning_offset + 1\n",
    "    row_size = evening_offset + 2\n",
    "    values = []\n",
    "\n",
    "    for _, row in tqdm(data.iterrows()):\n",
    "        \n",
    "        time = row[time_cols[0]]\n",
    "\n",
    "        r = np.zeros(row_size)\n",
    "        r[time.hour] += 1\n",
    "        r[day_offset + time.dayofweek] += 1\n",
    "        r[month_offset + time.month] += 1\n",
    "        r[morning_offset] = time.hour < 11\n",
    "        r[evening_offset] = time.hour > 19\n",
    "        values.append(r[1:])\n",
    "        \n",
    "    return csr_matrix(values)"
   ]
  },
  {
   "cell_type": "code",
   "execution_count": 9,
   "metadata": {},
   "outputs": [],
   "source": [
    "def unique(data):\n",
    "    return csr_matrix([[sum(1 for s in np.unique(row.values) if s != 0)] for _, row in tqdm(data.iterrows())])"
   ]
  },
  {
   "cell_type": "code",
   "execution_count": 10,
   "metadata": {},
   "outputs": [],
   "source": [
    "str_train = [' '.join([id_sites_dict[idx] for idx in row.values if idx in id_sites_dict]) for _, row in train_df[site_cols].iterrows()]\n",
    "str_test = [' '.join([id_sites_dict[idx] for idx in row.values if idx in id_sites_dict]) for _, row in test_df[site_cols].iterrows()]"
   ]
  },
  {
   "cell_type": "code",
   "execution_count": 11,
   "metadata": {},
   "outputs": [
    {
     "name": "stdout",
     "output_type": "stream",
     "text": [
      "Wall time: 37.3 s\n"
     ]
    }
   ],
   "source": [
    "%%time\n",
    "tfidf = TfidfVectorizer(ngram_range = (1, 2)).fit(np.array(str_train))\n",
    "X_train_idf = tfidf.transform(np.array(str_train))\n",
    "X_test_idf = tfidf.transform(np.array(str_test))"
   ]
  },
  {
   "cell_type": "code",
   "execution_count": 12,
   "metadata": {},
   "outputs": [
    {
     "name": "stderr",
     "output_type": "stream",
     "text": [
      "253561it [00:19, 13046.28it/s]\n",
      "253561it [00:19, 13014.67it/s]\n",
      "82797it [00:06, 12494.42it/s]\n",
      "82797it [00:07, 11125.20it/s]\n"
     ]
    }
   ],
   "source": [
    "X_tmp_train = hstack((X_train_idf, \n",
    "                      exptact_time_features(train_df[time_cols]),\n",
    "                      unique(train_df[site_cols].fillna(0).astype('int'))))\n",
    "\n",
    "X_tmp_test = hstack((X_test_idf, \n",
    "                     exptact_time_features(test_df[time_cols]),\n",
    "                     unique(test_df[site_cols].fillna(0).astype('int'))))"
   ]
  },
  {
   "cell_type": "code",
   "execution_count": 13,
   "metadata": {},
   "outputs": [
    {
     "name": "stderr",
     "output_type": "stream",
     "text": [
      "100%|████████████████████████████████████████████████████████████████████████████████████| 2/2 [00:00<00:00, 39.19it/s]\n"
     ]
    },
    {
     "data": {
      "text/plain": [
       "((177491, 129384), (177491,), (76070, 129384), (76070,))"
      ]
     },
     "execution_count": 13,
     "metadata": {},
     "output_type": "execute_result"
    }
   ],
   "source": [
    "X_train, y_train, X_valid, y_valid = split_data(X_tmp_train, train_df['target'].values.astype('int64'))\n",
    "\n",
    "X_train.shape, y_train.shape, X_valid.shape, y_valid.shape"
   ]
  },
  {
   "cell_type": "code",
   "execution_count": 14,
   "metadata": {},
   "outputs": [
    {
     "name": "stdout",
     "output_type": "stream",
     "text": [
      "Wall time: 4min 45s\n"
     ]
    }
   ],
   "source": [
    "%%time\n",
    "logit_c_values = np.logspace(-4, 2, 10)\n",
    "\n",
    "skf = StratifiedKFold(n_splits=3, random_state=17)\n",
    "\n",
    "logit_grid_searcher = LogisticRegressionCV(Cs=logit_c_values, cv=skf, n_jobs=-1)\n",
    "logit_grid_searcher.fit(X_train, y_train)"
   ]
  },
  {
   "cell_type": "code",
   "execution_count": 15,
   "metadata": {},
   "outputs": [
    {
     "data": {
      "text/plain": [
       "21.544347     0.995014\n",
       "100.000000    0.994929\n",
       "4.641589      0.994867\n",
       "1.000000      0.994011\n",
       "0.215443      0.993081\n",
       "0.046416      0.991966\n",
       "0.010000      0.990946\n",
       "0.002154      0.990946\n",
       "0.000464      0.990946\n",
       "0.000100      0.990946\n",
       "dtype: float64"
      ]
     },
     "execution_count": 15,
     "metadata": {},
     "output_type": "execute_result"
    }
   ],
   "source": [
    "logit_mean_cv_scores = next (iter (logit_grid_searcher.scores_.values())).mean(axis=0)\n",
    "pd.Series(logit_mean_cv_scores, index=logit_grid_searcher.Cs_).sort_values(ascending=False)"
   ]
  },
  {
   "cell_type": "code",
   "execution_count": 16,
   "metadata": {},
   "outputs": [
    {
     "name": "stdout",
     "output_type": "stream",
     "text": [
      "0.990094285571\n",
      "Wall time: 28.6 s\n"
     ]
    }
   ],
   "source": [
    "%%time\n",
    "score(LogisticRegression(C=21.544347, n_jobs=-1), X_train, y_train, X_valid, y_valid)"
   ]
  },
  {
   "cell_type": "code",
   "execution_count": 17,
   "metadata": {},
   "outputs": [
    {
     "name": "stdout",
     "output_type": "stream",
     "text": [
      "(253561, 129384)\n",
      "(82797, 129384)\n",
      "Wall time: 52.6 s\n"
     ]
    }
   ],
   "source": [
    "%%time\n",
    "y = train_df['target'].values.astype('int64')\n",
    "make_submission(LogisticRegression(C=21.544347, n_jobs=-1), X_tmp_train, y, X_tmp_test)"
   ]
  }
 ],
 "metadata": {
  "kernelspec": {
   "display_name": "Python 3",
   "language": "python",
   "name": "python3"
  },
  "language_info": {
   "codemirror_mode": {
    "name": "ipython",
    "version": 3
   },
   "file_extension": ".py",
   "mimetype": "text/x-python",
   "name": "python",
   "nbconvert_exporter": "python",
   "pygments_lexer": "ipython3",
   "version": "3.6.0"
  }
 },
 "nbformat": 4,
 "nbformat_minor": 2
}
