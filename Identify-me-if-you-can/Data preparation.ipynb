{
 "cells": [
  {
   "cell_type": "code",
   "execution_count": null,
   "metadata": {},
   "outputs": [],
   "source": [
    "import warnings\n",
    "import pickle\n",
    "\n",
    "import pandas as pd\n",
    "import numpy as np\n",
    "\n",
    "from tqdm import tqdm \n",
    "\n",
    "warnings.filterwarnings('ignore')\n",
    "PATH_TO_DATA = 'data/' "
   ]
  },
  {
   "cell_type": "code",
   "execution_count": null,
   "metadata": {},
   "outputs": [],
   "source": [
    "train_df = pd.read_csv(PATH_TO_DATA +'train_sessions_400users.csv', index_col='session_id', parse_dates=time_cols)\n",
    "\n",
    "with open(PATH_TO_DATA + 'site_dic.pkl', 'rb') as site_file:\n",
    "     sites_dict = pickle.load(site_file)\n",
    "        \n",
    "id_sites_dict = {v: k for k, v in sites_dict.items()}\n",
    "\n",
    "train_df.shape"
   ]
  },
  {
   "cell_type": "code",
   "execution_count": null,
   "metadata": {},
   "outputs": [],
   "source": [
    "def rolling_window(a, window, roll_step = 3):\n",
    "    shape = a.shape[:-1] + (a.shape[-1] - window + 1, window)\n",
    "    strides = a.strides + (a.strides[-1],)\n",
    "    arr = np.lib.stride_tricks.as_strided(a, shape=shape, strides=strides)\n",
    "    return np.array([v for idx, v in enumerate(arr) if idx % roll_step == 0 ])"
   ]
  },
  {
   "cell_type": "code",
   "execution_count": null,
   "metadata": {},
   "outputs": [],
   "source": [
    "def rolling(d, t):\n",
    "    if len(d) < 10:\n",
    "        return np.array([d + [0] * (10 - len(d))]), np.array([t + [np.NaN] * (10 - len(d))])\n",
    "    else:\n",
    "        return rolling_window(np.array(d), 10), rolling_window(np.array(t), 10)"
   ]
  },
  {
   "cell_type": "markdown",
   "metadata": {},
   "source": [
    "The idea is slightly increase the size of the train dataset by simply rolling user's sessions. It allows me to get new sessions which aren't equal to existing ones."
   ]
  },
  {
   "cell_type": "code",
   "execution_count": null,
   "metadata": {},
   "outputs": [],
   "source": [
    "grouped = train_df.groupby(by='user_id')\n",
    "new_data = pd.DataFrame([], columns=site_cols + time_cols + [\"user_id\"])\n",
    "\n",
    "for g in tqdm(grouped.groups.keys()):\n",
    "    vals = grouped.get_group(g) \n",
    "    vals = vals.loc[:, vals.columns != 'user_id'].values\n",
    "    vals = vals.reshape(1, vals.shape[0] * vals.shape[1])[0]\n",
    "    \n",
    "    values = [v for idx, v in enumerate(vals) if idx % 2 == 0 ]\n",
    "    index = [v for idx, v in enumerate(vals) if idx % 2 == 1 ]\n",
    "    \n",
    "    s = pd.Series(values, index=index).sort_index()\n",
    "    s.dropna(inplace=True)\n",
    "    \n",
    "    sites_row = []\n",
    "    times_row = []\n",
    "\n",
    "    first_idx = 0\n",
    "\n",
    "    while first_idx < s.shape[0]:\n",
    "        v_tmp = []\n",
    "        t_tmp = []\n",
    "        curr_idx = first_idx\n",
    "\n",
    "        while curr_idx < s.shape[0] and (s.index[curr_idx] - s.index[first_idx]).seconds < 1800:\n",
    "            v_tmp.append(s.values[curr_idx])\n",
    "            t_tmp.append(s.index[curr_idx])\n",
    "\n",
    "            curr_idx += 1\n",
    "\n",
    "        first_idx = curr_idx\n",
    "\n",
    "        sites_row.append(v_tmp)\n",
    "        times_row.append(t_tmp)\n",
    "        \n",
    "    t_values_row = []\n",
    "    t_times_row = []\n",
    "\n",
    "    for v, t in zip(sites_row, times_row):\n",
    "        new_vals, new_times = rolling(v, t)\n",
    "        \n",
    "        t_values_row.extend(new_vals)\n",
    "        t_times_row.extend(new_times)\n",
    "            \n",
    "            \n",
    "    t_data = [v.tolist() + t.tolist() for v, t in zip(t_values_row, t_times_row) ]\n",
    "    row = pd.DataFrame(t_data, columns=site_cols + time_cols)\n",
    "    row['user_id'] = [g] * row.shape[0]\n",
    "    \n",
    "    new_data = pd.concat([new_data, row], ignore_index=True)"
   ]
  },
  {
   "cell_type": "code",
   "execution_count": null,
   "metadata": {},
   "outputs": [],
   "source": [
    "new_data.sort_values(by=['time1'], inplace=True, ascending=True)\n",
    "new_data.reset_index(inplace=True, drop=True)\n",
    "\n",
    "new_data.to_csv(PATH_TO_DATA +'rolled.csv')\n",
    "\n",
    "new_data.shape"
   ]
  }
 ],
 "metadata": {
  "kernelspec": {
   "display_name": "Python 3",
   "language": "python",
   "name": "python3"
  },
  "language_info": {
   "codemirror_mode": {
    "name": "ipython",
    "version": 3
   },
   "file_extension": ".py",
   "mimetype": "text/x-python",
   "name": "python",
   "nbconvert_exporter": "python",
   "pygments_lexer": "ipython3",
   "version": "3.6.0"
  }
 },
 "nbformat": 4,
 "nbformat_minor": 2
}
