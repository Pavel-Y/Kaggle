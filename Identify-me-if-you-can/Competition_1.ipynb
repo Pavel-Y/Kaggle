{
 "cells": [
  {
   "cell_type": "code",
   "execution_count": 340,
   "metadata": {},
   "outputs": [],
   "source": [
    "import warnings\n",
    "import pickle\n",
    "\n",
    "import pandas as pd\n",
    "import numpy as np\n",
    "\n",
    "from sklearn.linear_model import SGDClassifier, LogisticRegression\n",
    "from scipy.sparse import csr_matrix, hstack\n",
    "from sklearn.metrics import accuracy_score\n",
    "from tqdm import tqdm \n",
    "\n",
    "\n",
    "warnings.filterwarnings('ignore')\n",
    "PATH_TO_DATA = 'data/' "
   ]
  },
  {
   "cell_type": "code",
   "execution_count": 3,
   "metadata": {},
   "outputs": [],
   "source": [
    "time_cols = ['time%d' % i for i in range(1, 11)]\n",
    "site_cols = ['site%d' % i for i in range(1, 11)]\n",
    "\n",
    "train_df = pd.read_csv(PATH_TO_DATA +'train_sessions_400users.csv', index_col='session_id', parse_dates=time_cols)\n",
    "\n",
    "with open(PATH_TO_DATA + 'site_dic.pkl', 'rb') as site_file:\n",
    "     sites_dict = pickle.load(site_file)\n",
    "        \n",
    "id_sites_dict = {v: k for k, v in sites_dict.items()}"
   ]
  },
  {
   "cell_type": "code",
   "execution_count": 346,
   "metadata": {},
   "outputs": [],
   "source": [
    "def write_to_submission_file(predicted_labels, out_file, target='user_id', index_label=\"session_id\"):\n",
    "    predicted_df = pd.DataFrame(predicted_labels, index = np.arange(1, predicted_labels.shape[0] + 1), columns=[target])\n",
    "    predicted_df.to_csv(PATH_TO_DATA + out_file, index_label=index_label)"
   ]
  },
  {
   "cell_type": "code",
   "execution_count": 323,
   "metadata": {},
   "outputs": [],
   "source": [
    "def split_data(X_data, y_data):\n",
    "    grouped = new_data[['user_id']].groupby(by='user_id')\n",
    "    \n",
    "    train_ids = []\n",
    "    valid_ids = []\n",
    "    \n",
    "    for g in tqdm(grouped.groups.keys()):\n",
    "        train_shape = int(grouped.get_group(g).shape[0] * 0.7)\n",
    "\n",
    "        ids_to_train = grouped.get_group(g).index[:train_shape]\n",
    "        ids_to_valid = grouped.get_group(g).index[train_shape:]\n",
    "\n",
    "        train_ids.extend(ids_to_train)\n",
    "        valid_ids.extend(ids_to_valid)\n",
    "        \n",
    "    train_ids = np.array(train_ids) - 1\n",
    "    valid_ids = np.array(valid_ids) - 1\n",
    "        \n",
    "    return X_data.tocsc()[train_ids], y_data[train_ids], X_data.tocsc()[valid_ids], y_data[valid_ids]"
   ]
  },
  {
   "cell_type": "code",
   "execution_count": 22,
   "metadata": {},
   "outputs": [],
   "source": [
    "def extract_time_features(data):\n",
    "    row_size = 26\n",
    "    morning_offset = 24\n",
    "    evening_offset = 25\n",
    "    values = []\n",
    "    \n",
    "    for _, row in tqdm(data.iterrows()):\n",
    "        \n",
    "        time = row[time_cols[0]]\n",
    "    \n",
    "        r = np.zeros(26)\n",
    "        r[time.hour - 1] += 1\n",
    "        r[morning_offset] = time.hour < 11\n",
    "        r[evening_offset] = time.hour > 19\n",
    "        values.append(sh)\n",
    "        \n",
    "    return csr_matrix(values)"
   ]
  },
  {
   "cell_type": "code",
   "execution_count": 357,
   "metadata": {},
   "outputs": [],
   "source": [
    "def get_dense_matrix(matrix):\n",
    "    site_ids = list(id_sites_dict)\n",
    "    X = matrix.values\n",
    "    \n",
    "    i = 0\n",
    "    data = list()\n",
    "    col = list()\n",
    "    rows = list()\n",
    "    for row in tqdm(X):\n",
    "        unique, counts = np.unique(row, return_counts=True)\n",
    "        dic = dict(zip(unique, counts))\n",
    "        for k in dic:\n",
    "            if (k == 0):\n",
    "                continue\n",
    "            \n",
    "            data.append(dic[k])\n",
    "            rows.append(i)\n",
    "            col.append(k-1)\n",
    "            \n",
    "        i += 1\n",
    "    X_sparse = csr_matrix((data, (rows, col)), shape=(X.shape[0], len(site_ids)))\n",
    "    return X_sparse"
   ]
  },
  {
   "cell_type": "code",
   "execution_count": 53,
   "metadata": {},
   "outputs": [],
   "source": [
    "def score(model, X_train, y_train, X_valid, y_valid):\n",
    "    model.fit(X_train, y_train)\n",
    "    valid_score = model.predict(X_valid)\n",
    "    print(accuracy_score(y_valid, valid_score))"
   ]
  },
  {
   "cell_type": "code",
   "execution_count": 361,
   "metadata": {},
   "outputs": [
    {
     "name": "stderr",
     "output_type": "stream",
     "text": [
      "100%|███████████████████████████████████████████████████████████████████| 400/400 [00:00<00:00, 553.71it/s]\n"
     ]
    },
    {
     "data": {
      "text/plain": [
       "((378287, 36682), (378287,), (162387, 36682), (162387,))"
      ]
     },
     "execution_count": 361,
     "metadata": {},
     "output_type": "execute_result"
    }
   ],
   "source": [
    "X_tmp = hstack((X_train_idf, extract_time_features(train_df[time_cols])))\n",
    "X_train, y_train, X_valid, y_valid = split_data(X_tmp, new_data['user_id'].values.astype('int64'))\n",
    "\n",
    "X_train.shape, y_train.shape, X_valid.shape, y_valid.shape"
   ]
  },
  {
   "cell_type": "code",
   "execution_count": 362,
   "metadata": {},
   "outputs": [
    {
     "name": "stdout",
     "output_type": "stream",
     "text": [
      "0.256110402926\n",
      "Wall time: 1min 45s\n"
     ]
    }
   ],
   "source": [
    "%%time\n",
    "score(SGDClassifier(random_state=17, n_jobs=-1, loss='log'), X_train, y_train, X_valid, y_valid)"
   ]
  },
  {
   "cell_type": "code",
   "execution_count": 338,
   "metadata": {},
   "outputs": [],
   "source": [
    "X = X_tmp\n",
    "y = new_data['user_id'].values.astype('int64')"
   ]
  },
  {
   "cell_type": "code",
   "execution_count": 341,
   "metadata": {},
   "outputs": [
    {
     "name": "stdout",
     "output_type": "stream",
     "text": [
      "Wall time: 7h 15min\n"
     ]
    }
   ],
   "source": [
    "%%time\n",
    "logit = LogisticRegression(C=2.11111111111, n_jobs=-1)\n",
    "logit.fit(X, y)"
   ]
  },
  {
   "cell_type": "code",
   "execution_count": 342,
   "metadata": {},
   "outputs": [],
   "source": [
    "test_df = pd.read_csv(PATH_TO_DATA + 'test_sessions_400users.csv', index_col='session_id', parse_dates=time_cols)\n",
    "X_test = hstack((X_test_idf, extract_time_features(test_df[time_cols])))"
   ]
  },
  {
   "cell_type": "code",
   "execution_count": 345,
   "metadata": {},
   "outputs": [],
   "source": [
    "logit_test_pred = logit.predict(X_test)\n",
    "write_to_submission_file(logit_test_pred.astype(int), 'results.csv')"
   ]
  },
  {
   "cell_type": "code",
   "execution_count": 347,
   "metadata": {},
   "outputs": [],
   "source": [
    "write_to_submission_file(logit_test_pred.astype(int), 'results.csv')"
   ]
  },
  {
   "cell_type": "markdown",
   "metadata": {},
   "source": [
    "The best result which I can get is 0.20218 that is the 9 place out of 119. Not bad, but will see how it will go on private leaderboard. "
   ]
  }
 ],
 "metadata": {
  "kernelspec": {
   "display_name": "Python 3",
   "language": "python",
   "name": "python3"
  },
  "language_info": {
   "codemirror_mode": {
    "name": "ipython",
    "version": 3
   },
   "file_extension": ".py",
   "mimetype": "text/x-python",
   "name": "python",
   "nbconvert_exporter": "python",
   "pygments_lexer": "ipython3",
   "version": "3.6.0"
  }
 },
 "nbformat": 4,
 "nbformat_minor": 2
}
