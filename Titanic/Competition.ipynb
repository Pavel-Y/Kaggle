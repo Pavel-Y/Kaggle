{
 "cells": [
  {
   "cell_type": "code",
   "execution_count": 1,
   "metadata": {},
   "outputs": [],
   "source": [
    "%matplotlib inline\n",
    "\n",
    "import warnings\n",
    "import datetime\n",
    "import re\n",
    "\n",
    "import pandas as pd\n",
    "import numpy as np\n",
    "\n",
    "from sklearn.model_selection import cross_val_score, RandomizedSearchCV, GridSearchCV, validation_curve\n",
    "from sklearn.preprocessing import FunctionTransformer, StandardScaler, OneHotEncoder\n",
    "from sklearn.pipeline import FeatureUnion, make_pipeline\n",
    "from sklearn.ensemble import RandomForestClassifier\n",
    "from sklearn.linear_model import LogisticRegression\n",
    "from scipy.stats import randint as sp_randint\n",
    "\n",
    "from matplotlib import pyplot as plt\n",
    "\n",
    "PATH_TO_DATA = 'data/' "
   ]
  },
  {
   "cell_type": "code",
   "execution_count": 2,
   "metadata": {},
   "outputs": [],
   "source": [
    "def create_submition(model, X_train, y_train, X_test, test_index):\n",
    "    print('Train shape: (%d x %d)' % X_train.shape)\n",
    "    print('Test shape: (%d x %d)' % X_test.shape)\n",
    "    \n",
    "    model.fit(X_train, y_train)\n",
    "    \n",
    "    result_df = pd.DataFrame(index=test_index)\n",
    "    result_df['Survived'] = model.predict(X_test)\n",
    "    \n",
    "    name = 'result_' + datetime.datetime.today().strftime(\"%Y_%m_%d_%H_%M_%S\") + '.csv'\n",
    "    result_df.to_csv(name, index_label='PassengerId')"
   ]
  },
  {
   "cell_type": "code",
   "execution_count": 3,
   "metadata": {},
   "outputs": [],
   "source": [
    "def validate(model, X_train, y_train):\n",
    "    with warnings.catch_warnings():\n",
    "        warnings.simplefilter(\"ignore\")\n",
    "        print(cross_val_score(model, X_train, y_train, cv=3))"
   ]
  },
  {
   "cell_type": "code",
   "execution_count": 4,
   "metadata": {},
   "outputs": [],
   "source": [
    "train_df = pd.read_csv(PATH_TO_DATA+'train_features.csv', index_col='PassengerId')\n",
    "y_df = pd.read_csv(PATH_TO_DATA+'train.csv', index_col='PassengerId', usecols=['PassengerId', 'Survived'])"
   ]
  },
  {
   "cell_type": "code",
   "execution_count": 5,
   "metadata": {},
   "outputs": [],
   "source": [
    "num_cols = {'Fare', 'Age', 'Relatives count'}\n",
    "cat_cols = {'Pclass', 'Sex', 'Embarked', 'Titul', 'Surname', 'Is alone', 'Child survived', 'Husband survived',\n",
    "            'Wife died', 'Mather died', 'Is child', 'Cabin number', 'Deck', 'Is cabin present', 'Ticket number'}\n",
    "\n",
    "def create_f_transformer(names):\n",
    "    ids = np.array([(c in names) for c in train_df.columns], dtype=bool)\n",
    "    return FunctionTransformer(lambda x: x[:, ids], validate=False)\n",
    "\n",
    "num_features = make_pipeline(create_f_transformer(num_cols), StandardScaler(with_mean=0))\n",
    "cat_features = make_pipeline(create_f_transformer(cat_cols), OneHotEncoder(handle_unknown='ignore'))\n",
    "\n",
    "features_pipe = make_pipeline(FeatureUnion([('numbers', num_features), ('categories', cat_features)]))"
   ]
  },
  {
   "cell_type": "code",
   "execution_count": 6,
   "metadata": {},
   "outputs": [
    {
     "name": "stderr",
     "output_type": "stream",
     "text": [
      "C:\\Users\\kipil\\Anaconda3\\lib\\site-packages\\sklearn\\utils\\validation.py:590: DataConversionWarning: Data with input dtype object was converted to float64 by StandardScaler.\n",
      "  warnings.warn(msg, DataConversionWarning)\n",
      "C:\\Users\\kipil\\Anaconda3\\lib\\site-packages\\sklearn\\utils\\validation.py:590: DataConversionWarning: Data with input dtype object was converted to float64 by StandardScaler.\n",
      "  warnings.warn(msg, DataConversionWarning)\n"
     ]
    }
   ],
   "source": [
    "X = features_pipe.fit_transform(train_df.values)\n",
    "y = y_df['Survived'].values"
   ]
  },
  {
   "cell_type": "code",
   "execution_count": 7,
   "metadata": {},
   "outputs": [
    {
     "name": "stdout",
     "output_type": "stream",
     "text": [
      "[0.82154882 0.82491582 0.86531987]\n",
      "Wall time: 32 ms\n"
     ]
    }
   ],
   "source": [
    "%%time\n",
    "validate(LogisticRegression(), X, y)"
   ]
  },
  {
   "cell_type": "code",
   "execution_count": 8,
   "metadata": {},
   "outputs": [
    {
     "name": "stdout",
     "output_type": "stream",
     "text": [
      "[0.81481481 0.86195286 0.84848485]\n",
      "Wall time: 2.1 s\n"
     ]
    }
   ],
   "source": [
    "%%time\n",
    "validate(RandomForestClassifier(n_estimators=150), X, y)"
   ]
  },
  {
   "cell_type": "markdown",
   "metadata": {},
   "source": [
    "# Baseline submission"
   ]
  },
  {
   "cell_type": "code",
   "execution_count": 9,
   "metadata": {},
   "outputs": [
    {
     "data": {
      "text/html": [
       "<div>\n",
       "<style scoped>\n",
       "    .dataframe tbody tr th:only-of-type {\n",
       "        vertical-align: middle;\n",
       "    }\n",
       "\n",
       "    .dataframe tbody tr th {\n",
       "        vertical-align: top;\n",
       "    }\n",
       "\n",
       "    .dataframe thead th {\n",
       "        text-align: right;\n",
       "    }\n",
       "</style>\n",
       "<table border=\"1\" class=\"dataframe\">\n",
       "  <thead>\n",
       "    <tr style=\"text-align: right;\">\n",
       "      <th></th>\n",
       "      <th>Pclass</th>\n",
       "      <th>Sex</th>\n",
       "      <th>Embarked</th>\n",
       "      <th>Fare</th>\n",
       "      <th>Titul</th>\n",
       "      <th>Surname</th>\n",
       "      <th>Child survived</th>\n",
       "      <th>Husband survived</th>\n",
       "      <th>Wife died</th>\n",
       "      <th>Mather died</th>\n",
       "      <th>Age</th>\n",
       "      <th>Is child</th>\n",
       "      <th>Relatives count</th>\n",
       "      <th>Cabin number</th>\n",
       "      <th>Deck</th>\n",
       "      <th>Is cabin present</th>\n",
       "      <th>Ticket number</th>\n",
       "      <th>Is alone</th>\n",
       "    </tr>\n",
       "    <tr>\n",
       "      <th>PassengerId</th>\n",
       "      <th></th>\n",
       "      <th></th>\n",
       "      <th></th>\n",
       "      <th></th>\n",
       "      <th></th>\n",
       "      <th></th>\n",
       "      <th></th>\n",
       "      <th></th>\n",
       "      <th></th>\n",
       "      <th></th>\n",
       "      <th></th>\n",
       "      <th></th>\n",
       "      <th></th>\n",
       "      <th></th>\n",
       "      <th></th>\n",
       "      <th></th>\n",
       "      <th></th>\n",
       "      <th></th>\n",
       "    </tr>\n",
       "  </thead>\n",
       "  <tbody>\n",
       "    <tr>\n",
       "      <th>892</th>\n",
       "      <td>3</td>\n",
       "      <td>1</td>\n",
       "      <td>Q</td>\n",
       "      <td>2.057860</td>\n",
       "      <td>Mr</td>\n",
       "      <td>Kelly</td>\n",
       "      <td>Unknown</td>\n",
       "      <td>0</td>\n",
       "      <td>0</td>\n",
       "      <td>0</td>\n",
       "      <td>34.5</td>\n",
       "      <td>0</td>\n",
       "      <td>0</td>\n",
       "      <td>0</td>\n",
       "      <td>U</td>\n",
       "      <td>0</td>\n",
       "      <td>330911</td>\n",
       "      <td>0</td>\n",
       "    </tr>\n",
       "    <tr>\n",
       "      <th>893</th>\n",
       "      <td>3</td>\n",
       "      <td>0</td>\n",
       "      <td>S</td>\n",
       "      <td>1.945910</td>\n",
       "      <td>Mrs</td>\n",
       "      <td>Wilkes</td>\n",
       "      <td>Unknown</td>\n",
       "      <td>0</td>\n",
       "      <td>0</td>\n",
       "      <td>0</td>\n",
       "      <td>47.0</td>\n",
       "      <td>0</td>\n",
       "      <td>1</td>\n",
       "      <td>0</td>\n",
       "      <td>U</td>\n",
       "      <td>0</td>\n",
       "      <td>363272</td>\n",
       "      <td>0</td>\n",
       "    </tr>\n",
       "    <tr>\n",
       "      <th>894</th>\n",
       "      <td>2</td>\n",
       "      <td>1</td>\n",
       "      <td>Q</td>\n",
       "      <td>2.270836</td>\n",
       "      <td>Mr</td>\n",
       "      <td>Myles</td>\n",
       "      <td>Unknown</td>\n",
       "      <td>0</td>\n",
       "      <td>0</td>\n",
       "      <td>0</td>\n",
       "      <td>62.0</td>\n",
       "      <td>0</td>\n",
       "      <td>0</td>\n",
       "      <td>0</td>\n",
       "      <td>U</td>\n",
       "      <td>0</td>\n",
       "      <td>240276</td>\n",
       "      <td>1</td>\n",
       "    </tr>\n",
       "    <tr>\n",
       "      <th>895</th>\n",
       "      <td>3</td>\n",
       "      <td>1</td>\n",
       "      <td>S</td>\n",
       "      <td>2.159003</td>\n",
       "      <td>Mr</td>\n",
       "      <td>Wirz</td>\n",
       "      <td>Unknown</td>\n",
       "      <td>0</td>\n",
       "      <td>0</td>\n",
       "      <td>0</td>\n",
       "      <td>27.0</td>\n",
       "      <td>0</td>\n",
       "      <td>0</td>\n",
       "      <td>0</td>\n",
       "      <td>U</td>\n",
       "      <td>0</td>\n",
       "      <td>315154</td>\n",
       "      <td>1</td>\n",
       "    </tr>\n",
       "    <tr>\n",
       "      <th>896</th>\n",
       "      <td>3</td>\n",
       "      <td>0</td>\n",
       "      <td>S</td>\n",
       "      <td>2.508582</td>\n",
       "      <td>Mrs</td>\n",
       "      <td>Hirvonen</td>\n",
       "      <td>Survived</td>\n",
       "      <td>0</td>\n",
       "      <td>0</td>\n",
       "      <td>0</td>\n",
       "      <td>22.0</td>\n",
       "      <td>0</td>\n",
       "      <td>2</td>\n",
       "      <td>0</td>\n",
       "      <td>U</td>\n",
       "      <td>0</td>\n",
       "      <td>3101298</td>\n",
       "      <td>0</td>\n",
       "    </tr>\n",
       "  </tbody>\n",
       "</table>\n",
       "</div>"
      ],
      "text/plain": [
       "             Pclass  Sex Embarked      Fare Titul   Surname Child survived  \\\n",
       "PassengerId                                                                  \n",
       "892               3    1        Q  2.057860    Mr     Kelly        Unknown   \n",
       "893               3    0        S  1.945910   Mrs    Wilkes        Unknown   \n",
       "894               2    1        Q  2.270836    Mr     Myles        Unknown   \n",
       "895               3    1        S  2.159003    Mr      Wirz        Unknown   \n",
       "896               3    0        S  2.508582   Mrs  Hirvonen       Survived   \n",
       "\n",
       "             Husband survived  Wife died  Mather died   Age  Is child  \\\n",
       "PassengerId                                                             \n",
       "892                         0          0            0  34.5         0   \n",
       "893                         0          0            0  47.0         0   \n",
       "894                         0          0            0  62.0         0   \n",
       "895                         0          0            0  27.0         0   \n",
       "896                         0          0            0  22.0         0   \n",
       "\n",
       "             Relatives count  Cabin number Deck  Is cabin present  \\\n",
       "PassengerId                                                         \n",
       "892                        0             0    U                 0   \n",
       "893                        1             0    U                 0   \n",
       "894                        0             0    U                 0   \n",
       "895                        0             0    U                 0   \n",
       "896                        2             0    U                 0   \n",
       "\n",
       "             Ticket number  Is alone  \n",
       "PassengerId                           \n",
       "892                 330911         0  \n",
       "893                 363272         0  \n",
       "894                 240276         1  \n",
       "895                 315154         1  \n",
       "896                3101298         0  "
      ]
     },
     "execution_count": 9,
     "metadata": {},
     "output_type": "execute_result"
    }
   ],
   "source": [
    "test_df = pd.read_csv(PATH_TO_DATA+'test_features.csv', index_col='PassengerId')\n",
    "test_df.head()"
   ]
  },
  {
   "cell_type": "code",
   "execution_count": 10,
   "metadata": {},
   "outputs": [
    {
     "data": {
      "text/plain": [
       "Pclass              418\n",
       "Sex                 418\n",
       "Embarked            418\n",
       "Fare                418\n",
       "Titul               418\n",
       "Surname             418\n",
       "Child survived      418\n",
       "Husband survived    418\n",
       "Wife died           418\n",
       "Mather died         418\n",
       "Age                 418\n",
       "Is child            418\n",
       "Relatives count     418\n",
       "Cabin number        418\n",
       "Deck                418\n",
       "Is cabin present    418\n",
       "Ticket number       418\n",
       "Is alone            418\n",
       "dtype: int64"
      ]
     },
     "execution_count": 10,
     "metadata": {},
     "output_type": "execute_result"
    }
   ],
   "source": [
    "test_df.count()"
   ]
  },
  {
   "cell_type": "code",
   "execution_count": 11,
   "metadata": {},
   "outputs": [
    {
     "name": "stdout",
     "output_type": "stream",
     "text": [
      "Train shape: (891 x 1485)\n",
      "Test shape: (418 x 1485)\n"
     ]
    },
    {
     "name": "stderr",
     "output_type": "stream",
     "text": [
      "C:\\Users\\kipil\\Anaconda3\\lib\\site-packages\\sklearn\\utils\\validation.py:590: DataConversionWarning: Data with input dtype object was converted to float64 by StandardScaler.\n",
      "  warnings.warn(msg, DataConversionWarning)\n",
      "C:\\Users\\kipil\\Anaconda3\\lib\\site-packages\\sklearn\\linear_model\\logistic.py:432: FutureWarning: Default solver will be changed to 'lbfgs' in 0.22. Specify a solver to silence this warning.\n",
      "  FutureWarning)\n"
     ]
    }
   ],
   "source": [
    "X_test = features_pipe.transform(test_df.values)\n",
    "create_submition(LogisticRegression(), X, y, X_test, test_df.index.values)"
   ]
  },
  {
   "cell_type": "markdown",
   "metadata": {},
   "source": [
    "Score: 0.78947"
   ]
  },
  {
   "cell_type": "markdown",
   "metadata": {},
   "source": [
    "# RandomForestClassifier"
   ]
  },
  {
   "cell_type": "markdown",
   "metadata": {},
   "source": [
    "## Random search"
   ]
  },
  {
   "cell_type": "code",
   "execution_count": 12,
   "metadata": {},
   "outputs": [
    {
     "name": "stdout",
     "output_type": "stream",
     "text": [
      "Wall time: 20.4 s\n"
     ]
    }
   ],
   "source": [
    "%%time\n",
    "param_dist = {\"max_depth\": [3, 5, 10, None],\n",
    "              \"max_features\": sp_randint(1, 11),\n",
    "              \"min_samples_split\": sp_randint(2, 11),\n",
    "              \"bootstrap\": [True, False],\n",
    "              \"criterion\": [\"gini\", \"entropy\"]\n",
    "             }\n",
    "\n",
    "model = RandomForestClassifier(n_estimators=100)\n",
    "random_search = RandomizedSearchCV(model, param_distributions=param_dist, n_iter=20, cv=3, return_train_score=True)\n",
    "\n",
    "random_search.fit(X, y)"
   ]
  },
  {
   "cell_type": "code",
   "execution_count": 13,
   "metadata": {},
   "outputs": [
    {
     "name": "stdout",
     "output_type": "stream",
     "text": [
      "Best score: 0.842873\n",
      "Params:\n",
      "bootstrap: False\n",
      "criterion: entropy\n",
      "max_depth: None\n",
      "max_features: 5\n",
      "min_samples_split: 9\n"
     ]
    }
   ],
   "source": [
    "print('Best score: %f' % random_search.best_score_)\n",
    "print('Params:')\n",
    "for k in random_search.best_params_: print('%s: %s' % (k, random_search.best_params_[k]))"
   ]
  },
  {
   "cell_type": "code",
   "execution_count": 14,
   "metadata": {},
   "outputs": [],
   "source": [
    "random_columns_to_display = [ 'split0_test_score', 'split1_test_score', 'split2_test_score', 'mean_test_score', \n",
    "                      'std_test_score', 'param_bootstrap', 'param_criterion', 'param_max_depth', \n",
    "                      'param_max_features', 'param_min_samples_split']"
   ]
  },
  {
   "cell_type": "code",
   "execution_count": 15,
   "metadata": {},
   "outputs": [
    {
     "data": {
      "text/html": [
       "<div>\n",
       "<style scoped>\n",
       "    .dataframe tbody tr th:only-of-type {\n",
       "        vertical-align: middle;\n",
       "    }\n",
       "\n",
       "    .dataframe tbody tr th {\n",
       "        vertical-align: top;\n",
       "    }\n",
       "\n",
       "    .dataframe thead th {\n",
       "        text-align: right;\n",
       "    }\n",
       "</style>\n",
       "<table border=\"1\" class=\"dataframe\">\n",
       "  <thead>\n",
       "    <tr style=\"text-align: right;\">\n",
       "      <th></th>\n",
       "      <th>split0_test_score</th>\n",
       "      <th>split1_test_score</th>\n",
       "      <th>split2_test_score</th>\n",
       "      <th>mean_test_score</th>\n",
       "      <th>std_test_score</th>\n",
       "      <th>param_bootstrap</th>\n",
       "      <th>param_criterion</th>\n",
       "      <th>param_max_depth</th>\n",
       "      <th>param_max_features</th>\n",
       "      <th>param_min_samples_split</th>\n",
       "    </tr>\n",
       "  </thead>\n",
       "  <tbody>\n",
       "    <tr>\n",
       "      <th>0</th>\n",
       "      <td>0.811448</td>\n",
       "      <td>0.872054</td>\n",
       "      <td>0.845118</td>\n",
       "      <td>0.842873</td>\n",
       "      <td>0.024793</td>\n",
       "      <td>False</td>\n",
       "      <td>entropy</td>\n",
       "      <td>None</td>\n",
       "      <td>5</td>\n",
       "      <td>9</td>\n",
       "    </tr>\n",
       "    <tr>\n",
       "      <th>9</th>\n",
       "      <td>0.808081</td>\n",
       "      <td>0.868687</td>\n",
       "      <td>0.845118</td>\n",
       "      <td>0.840629</td>\n",
       "      <td>0.024945</td>\n",
       "      <td>True</td>\n",
       "      <td>gini</td>\n",
       "      <td>None</td>\n",
       "      <td>5</td>\n",
       "      <td>2</td>\n",
       "    </tr>\n",
       "    <tr>\n",
       "      <th>8</th>\n",
       "      <td>0.808081</td>\n",
       "      <td>0.861953</td>\n",
       "      <td>0.848485</td>\n",
       "      <td>0.839506</td>\n",
       "      <td>0.022891</td>\n",
       "      <td>False</td>\n",
       "      <td>entropy</td>\n",
       "      <td>None</td>\n",
       "      <td>5</td>\n",
       "      <td>5</td>\n",
       "    </tr>\n",
       "    <tr>\n",
       "      <th>1</th>\n",
       "      <td>0.814815</td>\n",
       "      <td>0.855219</td>\n",
       "      <td>0.848485</td>\n",
       "      <td>0.839506</td>\n",
       "      <td>0.017675</td>\n",
       "      <td>True</td>\n",
       "      <td>entropy</td>\n",
       "      <td>None</td>\n",
       "      <td>9</td>\n",
       "      <td>10</td>\n",
       "    </tr>\n",
       "    <tr>\n",
       "      <th>7</th>\n",
       "      <td>0.804714</td>\n",
       "      <td>0.855219</td>\n",
       "      <td>0.845118</td>\n",
       "      <td>0.835017</td>\n",
       "      <td>0.021821</td>\n",
       "      <td>False</td>\n",
       "      <td>gini</td>\n",
       "      <td>None</td>\n",
       "      <td>10</td>\n",
       "      <td>2</td>\n",
       "    </tr>\n",
       "  </tbody>\n",
       "</table>\n",
       "</div>"
      ],
      "text/plain": [
       "   split0_test_score  split1_test_score  split2_test_score  mean_test_score  \\\n",
       "0           0.811448           0.872054           0.845118         0.842873   \n",
       "9           0.808081           0.868687           0.845118         0.840629   \n",
       "8           0.808081           0.861953           0.848485         0.839506   \n",
       "1           0.814815           0.855219           0.848485         0.839506   \n",
       "7           0.804714           0.855219           0.845118         0.835017   \n",
       "\n",
       "   std_test_score param_bootstrap param_criterion param_max_depth  \\\n",
       "0        0.024793           False         entropy            None   \n",
       "9        0.024945            True            gini            None   \n",
       "8        0.022891           False         entropy            None   \n",
       "1        0.017675            True         entropy            None   \n",
       "7        0.021821           False            gini            None   \n",
       "\n",
       "  param_max_features param_min_samples_split  \n",
       "0                  5                       9  \n",
       "9                  5                       2  \n",
       "8                  5                       5  \n",
       "1                  9                      10  \n",
       "7                 10                       2  "
      ]
     },
     "execution_count": 15,
     "metadata": {},
     "output_type": "execute_result"
    }
   ],
   "source": [
    "cv_result_df = pd.DataFrame(random_search.cv_results_)\n",
    "cv_result_df.sort_values(by='mean_test_score', ascending=False)[random_columns_to_display].head()"
   ]
  },
  {
   "cell_type": "markdown",
   "metadata": {},
   "source": [
    "## Grid Search"
   ]
  },
  {
   "cell_type": "code",
   "execution_count": 16,
   "metadata": {},
   "outputs": [
    {
     "name": "stdout",
     "output_type": "stream",
     "text": [
      "Wall time: 4min 53s\n"
     ]
    }
   ],
   "source": [
    "%%time\n",
    "param_grid = {\"max_features\": range(1, 10),\n",
    "              \"min_samples_split\": range(2, 9),\n",
    "              \"bootstrap\": [True, False]}\n",
    "\n",
    "model = RandomForestClassifier(n_estimators=100)\n",
    "grid = GridSearchCV(model, param_grid=param_grid, cv=3, return_train_score=False)\n",
    "\n",
    "grid.fit(X, y)"
   ]
  },
  {
   "cell_type": "code",
   "execution_count": 17,
   "metadata": {},
   "outputs": [
    {
     "name": "stdout",
     "output_type": "stream",
     "text": [
      "Best score: 0.848485\n",
      "Params:\n",
      "bootstrap: True\n",
      "max_features: 3\n",
      "min_samples_split: 3\n"
     ]
    }
   ],
   "source": [
    "print('Best score: %f' % grid.best_score_)\n",
    "print('Params:')\n",
    "for k in grid.best_params_: print('%s: %s' % (k, grid.best_params_[k]))"
   ]
  },
  {
   "cell_type": "code",
   "execution_count": 18,
   "metadata": {},
   "outputs": [],
   "source": [
    "grid_columns_to_display = ['split0_test_score', 'split1_test_score', 'split2_test_score', 'mean_test_score', \n",
    "                      'std_test_score', 'param_bootstrap', 'param_max_features', 'param_min_samples_split']"
   ]
  },
  {
   "cell_type": "code",
   "execution_count": 19,
   "metadata": {},
   "outputs": [
    {
     "data": {
      "text/html": [
       "<div>\n",
       "<style scoped>\n",
       "    .dataframe tbody tr th:only-of-type {\n",
       "        vertical-align: middle;\n",
       "    }\n",
       "\n",
       "    .dataframe tbody tr th {\n",
       "        vertical-align: top;\n",
       "    }\n",
       "\n",
       "    .dataframe thead th {\n",
       "        text-align: right;\n",
       "    }\n",
       "</style>\n",
       "<table border=\"1\" class=\"dataframe\">\n",
       "  <thead>\n",
       "    <tr style=\"text-align: right;\">\n",
       "      <th></th>\n",
       "      <th>split0_test_score</th>\n",
       "      <th>split1_test_score</th>\n",
       "      <th>split2_test_score</th>\n",
       "      <th>mean_test_score</th>\n",
       "      <th>std_test_score</th>\n",
       "      <th>param_bootstrap</th>\n",
       "      <th>param_max_features</th>\n",
       "      <th>param_min_samples_split</th>\n",
       "    </tr>\n",
       "  </thead>\n",
       "  <tbody>\n",
       "    <tr>\n",
       "      <th>15</th>\n",
       "      <td>0.821549</td>\n",
       "      <td>0.872054</td>\n",
       "      <td>0.851852</td>\n",
       "      <td>0.848485</td>\n",
       "      <td>0.020756</td>\n",
       "      <td>True</td>\n",
       "      <td>3</td>\n",
       "      <td>3</td>\n",
       "    </tr>\n",
       "    <tr>\n",
       "      <th>68</th>\n",
       "      <td>0.821549</td>\n",
       "      <td>0.875421</td>\n",
       "      <td>0.848485</td>\n",
       "      <td>0.848485</td>\n",
       "      <td>0.021993</td>\n",
       "      <td>False</td>\n",
       "      <td>1</td>\n",
       "      <td>7</td>\n",
       "    </tr>\n",
       "    <tr>\n",
       "      <th>25</th>\n",
       "      <td>0.824916</td>\n",
       "      <td>0.875421</td>\n",
       "      <td>0.838384</td>\n",
       "      <td>0.846240</td>\n",
       "      <td>0.021354</td>\n",
       "      <td>True</td>\n",
       "      <td>4</td>\n",
       "      <td>6</td>\n",
       "    </tr>\n",
       "    <tr>\n",
       "      <th>75</th>\n",
       "      <td>0.814815</td>\n",
       "      <td>0.868687</td>\n",
       "      <td>0.855219</td>\n",
       "      <td>0.846240</td>\n",
       "      <td>0.022891</td>\n",
       "      <td>False</td>\n",
       "      <td>2</td>\n",
       "      <td>7</td>\n",
       "    </tr>\n",
       "    <tr>\n",
       "      <th>71</th>\n",
       "      <td>0.814815</td>\n",
       "      <td>0.875421</td>\n",
       "      <td>0.848485</td>\n",
       "      <td>0.846240</td>\n",
       "      <td>0.024793</td>\n",
       "      <td>False</td>\n",
       "      <td>2</td>\n",
       "      <td>3</td>\n",
       "    </tr>\n",
       "  </tbody>\n",
       "</table>\n",
       "</div>"
      ],
      "text/plain": [
       "    split0_test_score  split1_test_score  split2_test_score  mean_test_score  \\\n",
       "15           0.821549           0.872054           0.851852         0.848485   \n",
       "68           0.821549           0.875421           0.848485         0.848485   \n",
       "25           0.824916           0.875421           0.838384         0.846240   \n",
       "75           0.814815           0.868687           0.855219         0.846240   \n",
       "71           0.814815           0.875421           0.848485         0.846240   \n",
       "\n",
       "    std_test_score param_bootstrap param_max_features param_min_samples_split  \n",
       "15        0.020756            True                  3                       3  \n",
       "68        0.021993           False                  1                       7  \n",
       "25        0.021354            True                  4                       6  \n",
       "75        0.022891           False                  2                       7  \n",
       "71        0.024793           False                  2                       3  "
      ]
     },
     "execution_count": 19,
     "metadata": {},
     "output_type": "execute_result"
    }
   ],
   "source": [
    "cv_result_df = pd.DataFrame(grid.cv_results_)\n",
    "cv_result_df.sort_values(by='mean_test_score', ascending=False)[grid_columns_to_display].head()"
   ]
  },
  {
   "cell_type": "code",
   "execution_count": 20,
   "metadata": {},
   "outputs": [
    {
     "data": {
      "image/png": "[encoded data removed]",
      "text/plain": [
       "<Figure size 1080x720 with 2 Axes>"
      ]
     },
     "metadata": {
      "needs_background": "light"
     },
     "output_type": "display_data"
    }
   ],
   "source": [
    "plt.figure(figsize=(15, 10))\n",
    "\n",
    "model = RandomForestClassifier(n_estimators=150, bootstrap=False, max_features=5, min_samples_split=6)\n",
    "param_range = range(75, 260, 25)\n",
    "\n",
    "train_scores, test_scores = validation_curve(estimator=model,\n",
    "                                             X=X,\n",
    "                                             y=y,\n",
    "                                             param_name='n_estimators',\n",
    "                                             param_range=param_range,\n",
    "                                            cv = 3)\n",
    "\n",
    "train_mean = np.mean(train_scores,axis=1)\n",
    "train_std = np.std(train_scores,axis=1)\n",
    "test_mean = np.mean(test_scores,axis=1)\n",
    "test_std = np.std(test_scores,axis=1)\n",
    "\n",
    "plt.subplot(2,2,1)\n",
    "plt.plot(param_range,\n",
    "         train_mean,\n",
    "         color='blue',\n",
    "         marker='o',\n",
    "         markersize=5,\n",
    "         label='training accuracy')\n",
    "    \n",
    "plt.plot(param_range,\n",
    "         test_mean,\n",
    "         color='green',\n",
    "         marker='x',\n",
    "         markersize=5,\n",
    "         label='test accuracy') \n",
    "    \n",
    "plt.xlabel('n_estimators parameter')\n",
    "plt.ylabel('Accuracy (Mean)')\n",
    "plt.legend(loc='lower right')\n",
    "_ = plt.ylim([0.5,1])\n",
    "\n",
    "plt.subplot(2,2,2)\n",
    "plt.plot(param_range,\n",
    "         train_std,\n",
    "         color='blue',\n",
    "         marker='o',\n",
    "         markersize=5,\n",
    "         label='training accuracy')\n",
    "    \n",
    "plt.plot(param_range,\n",
    "         test_std,\n",
    "         color='green',\n",
    "         marker='x',\n",
    "         markersize=5,\n",
    "         label='test accuracy') \n",
    "\n",
    "plt.xlabel('n_estimators parameter')\n",
    "plt.ylabel('Accuracy (Std)')\n",
    "_ = plt.legend(loc='lower right')\n",
    "_ = plt.ylim([-0.01,0.04])"
   ]
  },
  {
   "cell_type": "code",
   "execution_count": 21,
   "metadata": {},
   "outputs": [
    {
     "name": "stdout",
     "output_type": "stream",
     "text": [
      "Train shape: (891 x 1485)\n",
      "Test shape: (418 x 1485)\n"
     ]
    }
   ],
   "source": [
    "model = RandomForestClassifier(n_estimators=150, bootstrap=False, max_features=5, min_samples_split=6)\n",
    "create_submition(model, X, y, X_test, test_df.index.values)"
   ]
  },
  {
   "cell_type": "markdown",
   "metadata": {},
   "source": [
    "Score: 0.80861, not huge improvement, but some"
   ]
  }
 ],
 "metadata": {
  "kernelspec": {
   "display_name": "Python 3",
   "language": "python",
   "name": "python3"
  },
  "language_info": {
   "codemirror_mode": {
    "name": "ipython",
    "version": 3
   },
   "file_extension": ".py",
   "mimetype": "text/x-python",
   "name": "python",
   "nbconvert_exporter": "python",
   "pygments_lexer": "ipython3",
   "version": "3.6.6"
  }
 },
 "nbformat": 4,
 "nbformat_minor": 2
}
